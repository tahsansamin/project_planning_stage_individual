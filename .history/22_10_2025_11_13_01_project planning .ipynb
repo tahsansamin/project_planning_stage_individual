{
 "cells": [
  {
   "cell_type": "code",
   "execution_count": null,
   "id": "24d78b54-b9d3-4213-aa68-7df0fe41e3e5",
   "metadata": {},
   "outputs": [],
   "source": [
    "#loading necessary libraries\n",
    "library(tidyverse)\n"
   ]
  },
  {
   "cell_type": "markdown",
   "id": "b3e85ea5-f688-4ba2-bb84-15e0ded0d6de",
   "metadata": {},
   "source": [
    "# Dataset Descriptions\n",
    "## What is the dataset about?\n",
    "This dataset was collected by the Pacific Laboratory for Artificial Intelligence (PLAI) led by Frank Wood at the University of British Columbia. The data collected revolves around how people play video games and was recorded through a MineCraft server ,set up by the research team, where players' actions are recorded as they navigate through a MineCraft world.\n",
    "## Dataset composition\n",
    "The dataset consists of two comma seperated values files : players.csv and sessions.csv .\n",
    "#### players.csv\n",
    "This file contains 196 observations and consists of 7 variables which are explained below: <br></br>\n",
    "        1. experience: variable with character data type that classifies a players experience into 5 distinct categories: Pro, Veteran, Amateur,\n",
    "\n"
   ]
  },
  {
   "cell_type": "code",
   "execution_count": null,
   "id": "f9aa07ab-2262-4907-9ebf-2000286231c1",
   "metadata": {},
   "outputs": [],
   "source": [
    "download.file(\"https://raw.githubusercontent.com/tahsansamin/project_planning_stage_individual/refs/heads/main/dataset/sessions.csv\", \"sessions.csv\")\n",
    "download.file(\"https://raw.githubusercontent.com/tahsansamin/project_planning_stage_individual/refs/heads/main/dataset/players.csv\", \"players.csv\")"
   ]
  },
  {
   "cell_type": "code",
   "execution_count": null,
   "id": "19f7caa3-6c29-45e0-990a-118779594147",
   "metadata": {},
   "outputs": [],
   "source": [
    "players <- read_csv(\"players.csv\", show_col_types = FALSE) |>\n",
    "        mutate(experience = as_factor(experience)) |>\n",
    "        mutate(gender = as_factor(gender))\n"
   ]
  },
  {
   "cell_type": "code",
   "execution_count": null,
   "id": "98cbe691-8af4-4529-8a7f-e0320b697ff4",
   "metadata": {},
   "outputs": [],
   "source": [
    "unique(players[\"experience\"])"
   ]
  },
  {
   "cell_type": "code",
   "execution_count": null,
   "id": "3a33e427-32a0-4997-99ab-e30d52561b62",
   "metadata": {},
   "outputs": [],
   "source": []
  }
 ],
 "metadata": {
  "kernelspec": {
   "display_name": "R",
   "language": "R",
   "name": "ir"
  },
  "language_info": {
   "codemirror_mode": "r",
   "file_extension": ".r",
   "mimetype": "text/x-r-source",
   "name": "R",
   "pygments_lexer": "r",
   "version": "4.3.3"
  }
 },
 "nbformat": 4,
 "nbformat_minor": 5
}
