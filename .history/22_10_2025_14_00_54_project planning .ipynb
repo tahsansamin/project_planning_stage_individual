{
 "cells": [
  {
   "cell_type": "code",
   "execution_count": null,
   "id": "24d78b54-b9d3-4213-aa68-7df0fe41e3e5",
   "metadata": {},
   "outputs": [],
   "source": [
    "#loading necessary libraries\n",
    "library(tidyverse)\n"
   ]
  },
  {
   "cell_type": "markdown",
   "id": "b3e85ea5-f688-4ba2-bb84-15e0ded0d6de",
   "metadata": {},
   "source": [
    "# Dataset Descriptions\n",
    "## What is the dataset about?\n",
    "This dataset was collected by the Pacific Laboratory for Artificial Intelligence (PLAI) led by Frank Wood at the University of British Columbia. The data collected revolves around how people play video games and was recorded through a MineCraft server ,set up by the research team, where players' actions are recorded as they navigate through a MineCraft world.<br></br>\n",
    "## How was the data collected?\n",
    "## Dataset composition\n",
    "The dataset consists of two comma seperated values files : players.csv and sessions.csv .\n",
    "#### players.csv\n",
    "This original file contains 196 observations and consists of 7 variables which are explained below: <br></br>\n",
    "        1. experience: variable with character data type that classifies a players experience into 5 distinct categories: Pro, Veteran, Amateur, Regular and Beginner. The datatype is in character form and may have to be changed to a factor <br></br>\n",
    "        2. susbcribe: TRUE if player has subscribed to newsletter and FALSE otherwise. This column is of a logical type. <br></br>\n",
    "        3. hashedEmail: hashed(encrypted) email address of player. This column is of the character type <br></br>\n",
    "        4. played_hours: number of hours spent on the game by the player. This values in this column are a double type. <br></br>\n",
    "        5. name: name of player. Values in this column are character type. <br></br>\n",
    "        6. gender: gender of player with unique values: Male , Female, Non-binary, Prefer not to say, Agender, Two-Spirited, Other . Values in this column are character type. May need to be reformatted to factor type. <br></br>\n",
    "        7. Age of player: this is the age of the player and values in this column are of double data type.\n",
    "\n"
   ]
  },
  {
   "cell_type": "code",
   "execution_count": null,
   "id": "f9aa07ab-2262-4907-9ebf-2000286231c1",
   "metadata": {},
   "outputs": [],
   "source": [
    "download.file(\"https://raw.githubusercontent.com/tahsansamin/project_planning_stage_individual/refs/heads/main/dataset/sessions.csv\", \"sessions.csv\")\n",
    "download.file(\"https://raw.githubusercontent.com/tahsansamin/project_planning_stage_individual/refs/heads/main/dataset/players.csv\", \"players.csv\")"
   ]
  },
  {
   "cell_type": "code",
   "execution_count": null,
   "id": "19f7caa3-6c29-45e0-990a-118779594147",
   "metadata": {},
   "outputs": [],
   "source": [
    "players <- read_csv(\"players.csv\", show_col_types = FALSE)\n",
    "players"
   ]
  },
  {
   "cell_type": "markdown",
   "id": "9f213e46-2d52-460c-a122-b9d29cfc1de2",
   "metadata": {},
   "source": [
    "#### sessions.csv\n",
    "This original file consists of 1535 observations and contains the following variables: <br></br>\n",
    "            1. hashedEmail : this column contains the hashed email address of players in character data type format <br></br>\n",
    "            2. start_time : records date and time of when player starteds gaming session. Current data type in character format and it may need to be reformatted to date time format to make sense of the data. <br></br>\n",
    "            3. end_time : records date and time of when player stopped gaming session. Current data type in character format and it may need to be reformatted to date time format to make sense of the data. <br></br>\n",
    "            4.  original_start_time: unix timestamp (in seconds) of when player started session. The datatype in this column is of the double data type. <br></br>\n",
    "            5. original_end_time: unix timestampe (in seconds) of when player ended gaming session. The datatype in this column is of the double data type. <br></br>"
   ]
  },
  {
   "cell_type": "code",
   "execution_count": null,
   "id": "3a33e427-32a0-4997-99ab-e30d52561b62",
   "metadata": {},
   "outputs": [],
   "source": [
    "sessions <- read_csv(\"sessions.csv\", show_col_types = FALSE)\n",
    "sessions"
   ]
  },
  {
   "cell_type": "code",
   "execution_count": null,
   "id": "b608a5f3-75e2-4a0c-b11a-b6cbe1e94e75",
   "metadata": {},
   "outputs": [],
   "source": []
  }
 ],
 "metadata": {
  "kernelspec": {
   "display_name": "R",
   "language": "R",
   "name": "ir"
  },
  "language_info": {
   "codemirror_mode": "r",
   "file_extension": ".r",
   "mimetype": "text/x-r-source",
   "name": "R",
   "pygments_lexer": "r",
   "version": "4.3.3"
  }
 },
 "nbformat": 4,
 "nbformat_minor": 5
}
