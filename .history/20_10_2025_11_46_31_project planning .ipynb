{
 "cells": [
  {
   "cell_type": "markdown",
   "id": "b3e85ea5-f688-4ba2-bb84-15e0ded0d6de",
   "metadata": {},
   "source": [
    "<h2>Dataset Descriptions</h2>\n",
    "<h4>What is the dataset about?</h4>\n",
    "<p>This dataset was collected by the Pacific Laboratory for Artificial Intelligence (PLAI) led by Frank Wood at the University of British Columbia. The data collected revolves around how people play video games and was recorded through a MineCraft server ,set up by the research team, where players' actions are recorded as they navigate through a MineCraft world </p>"
   ]
  },
  {
   "cell_type": "code",
   "execution_count": null,
   "id": "f9aa07ab-2262-4907-9ebf-2000286231c1",
   "metadata": {},
   "outputs": [],
   "source": [
    "download.file(\"\")"
   ]
  }
 ],
 "metadata": {
  "kernelspec": {
   "display_name": "R",
   "language": "R",
   "name": "ir"
  },
  "language_info": {
   "codemirror_mode": "r",
   "file_extension": ".r",
   "mimetype": "text/x-r-source",
   "name": "R",
   "pygments_lexer": "r",
   "version": "4.3.3"
  }
 },
 "nbformat": 4,
 "nbformat_minor": 5
}
